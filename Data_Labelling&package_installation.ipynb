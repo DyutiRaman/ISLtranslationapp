{
 "cells": [
  {
   "cell_type": "markdown",
   "id": "9a752d6a",
   "metadata": {},
   "source": [
    "\n"
   ]
  },
  {
   "cell_type": "code",
   "execution_count": 131,
   "id": "5bb9bcbf",
   "metadata": {},
   "outputs": [],
   "source": [
    "#downloading required packages (needed to run only once after that comment it out)\n",
    "#!pip install --upgrade pyqt5 lxml"
   ]
  },
  {
   "cell_type": "code",
   "execution_count": 132,
   "id": "1a67b0fa",
   "metadata": {},
   "outputs": [],
   "source": [
    "#!pip list"
   ]
  },
  {
   "cell_type": "code",
   "execution_count": 133,
   "id": "e4b2f147",
   "metadata": {},
   "outputs": [],
   "source": [
    "import cv2\n",
    "import os\n",
    "import time\n",
    "import uuid"
   ]
  },
  {
   "cell_type": "code",
   "execution_count": 134,
   "id": "c38f6bc8",
   "metadata": {},
   "outputs": [],
   "source": [
    "LABELIMG_PATH = os.path.join('tensorflow', 'labelimg')"
   ]
  },
  {
   "cell_type": "code",
   "execution_count": 135,
   "id": "a404012e-06cc-40ca-a769-3398d40fdd4d",
   "metadata": {},
   "outputs": [
    {
     "data": {
      "text/plain": [
       "'tensorflow\\\\labelimg'"
      ]
     },
     "execution_count": 135,
     "metadata": {},
     "output_type": "execute_result"
    }
   ],
   "source": [
    "LABELIMG_PATH"
   ]
  },
  {
   "cell_type": "code",
   "execution_count": 136,
   "id": "3a61673c",
   "metadata": {},
   "outputs": [],
   "source": [
    "if not os.path.exists(LABELIMG_PATH):\n",
    "    !mkdir {LABELIMG_PATH}\n",
    "    !git clone https://github.com/tzutalin/labelImg {LABELIMG_PATH}"
   ]
  },
  {
   "cell_type": "code",
   "execution_count": 137,
   "id": "aa999445",
   "metadata": {},
   "outputs": [],
   "source": [
    "\n",
    "if os.name == 'posix':\n",
    "    !cd {LABELIMG_PATH} && make qt5py3\n",
    "if os.name == 'nt':\n",
    "    !cd {LABELIMG_PATH} && pyrcc5 -o libs/resources.py resources.qrc\n"
   ]
  },
  {
   "cell_type": "code",
   "execution_count": 138,
   "id": "2513d656",
   "metadata": {
    "scrolled": true
   },
   "outputs": [
    {
     "name": "stdout",
     "output_type": "stream",
     "text": [
      "Cancel creation.\n",
      "Image:C:\\Users\\sahar\\ISLtranslationapp\\tensorflow\\workspace\\images\\collectedimages\\hello\\.ipynb_checkpoints\\hello.c0407d92-6779-11ef-b571-cddf5db96301-checkpoint.jpg -> Annotation:C:/Users/sahar/ISLtranslationapp/tensorflow/workspace/images/collectedimages/hello\\hello.c0407d92-6779-11ef-b571-cddf5db96301-checkpoint.xml\n",
      "Image:C:\\Users\\sahar\\ISLtranslationapp\\tensorflow\\workspace\\images\\collectedimages\\hello\\hello.bf060cfc-6779-11ef-a539-cddf5db96301.jpg -> Annotation:C:/Users/sahar/ISLtranslationapp/tensorflow/workspace/images/collectedimages/hello\\hello.bf060cfc-6779-11ef-a539-cddf5db96301.xml\n",
      "Image:C:\\Users\\sahar\\ISLtranslationapp\\tensorflow\\workspace\\images\\collectedimages\\hello\\hello.c2a9e97a-6779-11ef-aef0-cddf5db96301.jpg -> Annotation:C:/Users/sahar/ISLtranslationapp/tensorflow/workspace/images/collectedimages/hello\\hello.c2a9e97a-6779-11ef-aef0-cddf5db96301.xml\n",
      "Image:C:\\Users\\sahar\\ISLtranslationapp\\tensorflow\\workspace\\images\\collectedimages\\hello\\hello.c3dd1553-6779-11ef-bc81-cddf5db96301.jpg -> Annotation:C:/Users/sahar/ISLtranslationapp/tensorflow/workspace/images/collectedimages/hello\\hello.c3dd1553-6779-11ef-bc81-cddf5db96301.xml\n",
      "Image:C:\\Users\\sahar\\ISLtranslationapp\\tensorflow\\workspace\\images\\collectedimages\\hello\\hello.c8aeca4f-6779-11ef-9669-cddf5db96301.jpg -> Annotation:C:/Users/sahar/ISLtranslationapp/tensorflow/workspace/images/collectedimages/hello\\hello.c8aeca4f-6779-11ef-9669-cddf5db96301.xml\n",
      "Image:C:\\Users\\sahar\\ISLtranslationapp\\tensorflow\\workspace\\images\\collectedimages\\hello\\hello.c9e497b1-6779-11ef-aa87-cddf5db96301.jpg -> Annotation:C:/Users/sahar/ISLtranslationapp/tensorflow/workspace/images/collectedimages/hello\\hello.c9e497b1-6779-11ef-aa87-cddf5db96301.xml\n",
      "Image:C:\\Users\\sahar\\ISLtranslationapp\\tensorflow\\workspace\\images\\collectedimages\\hello\\hello.c77a6c34-6779-11ef-98d0-cddf5db96301.jpg -> Annotation:C:/Users/sahar/ISLtranslationapp/tensorflow/workspace/images/collectedimages/hello\\hello.c77a6c34-6779-11ef-98d0-cddf5db96301.xml\n",
      "Image:C:\\Users\\sahar\\ISLtranslationapp\\tensorflow\\workspace\\images\\collectedimages\\hello\\hello.c176a550-6779-11ef-b092-cddf5db96301.jpg -> Annotation:C:/Users/sahar/ISLtranslationapp/tensorflow/workspace/images/collectedimages/hello\\hello.c176a550-6779-11ef-b092-cddf5db96301.xml\n",
      "Image:C:\\Users\\sahar\\ISLtranslationapp\\tensorflow\\workspace\\images\\collectedimages\\hello\\hello.c0407d92-6779-11ef-b571-cddf5db96301.jpg -> Annotation:C:/Users/sahar/ISLtranslationapp/tensorflow/workspace/images/collectedimages/hello\\hello.c0407d92-6779-11ef-b571-cddf5db96301.xml\n",
      "Image:C:\\Users\\sahar\\ISLtranslationapp\\tensorflow\\workspace\\images\\collectedimages\\hello\\hello.c645f6bf-6779-11ef-90e3-cddf5db96301.jpg -> Annotation:C:/Users/sahar/ISLtranslationapp/tensorflow/workspace/images/collectedimages/hello\\hello.c645f6bf-6779-11ef-90e3-cddf5db96301.xml\n",
      "Image:C:\\Users\\sahar\\ISLtranslationapp\\tensorflow\\workspace\\images\\collectedimages\\hello\\hello.c51173ca-6779-11ef-84f0-cddf5db96301.jpg -> Annotation:C:/Users/sahar/ISLtranslationapp/tensorflow/workspace/images/collectedimages/hello\\hello.c51173ca-6779-11ef-84f0-cddf5db96301.xml\n",
      "Image:C:\\Users\\sahar\\ISLtranslationapp\\tensorflow\\workspace\\images\\collectedimages\\hello\\hello.cb187bc6-6779-11ef-9b45-cddf5db96301.jpg -> Annotation:C:/Users/sahar/ISLtranslationapp/tensorflow/workspace/images/collectedimages/hello\\hello.cb187bc6-6779-11ef-9b45-cddf5db96301.xml\n",
      "Image:C:\\Users\\sahar\\ISLtranslationapp\\tensorflow\\workspace\\images\\collectedimages\\hello\\hello.cc4b86f3-6779-11ef-9c7f-cddf5db96301.jpg -> Annotation:C:/Users/sahar/ISLtranslationapp/tensorflow/workspace/images/collectedimages/hello\\hello.cc4b86f3-6779-11ef-9c7f-cddf5db96301.xml\n",
      "Image:C:\\Users\\sahar\\ISLtranslationapp\\tensorflow\\workspace\\images\\collectedimages\\hello\\hello.cd801339-6779-11ef-9c83-cddf5db96301.jpg -> Annotation:C:/Users/sahar/ISLtranslationapp/tensorflow/workspace/images/collectedimages/hello\\hello.cd801339-6779-11ef-9c83-cddf5db96301.xml\n",
      "Image:C:\\Users\\sahar\\ISLtranslationapp\\tensorflow\\workspace\\images\\collectedimages\\hello\\hello.ceb47a98-6779-11ef-a8be-cddf5db96301.jpg -> Annotation:C:/Users/sahar/ISLtranslationapp/tensorflow/workspace/images/collectedimages/hello\\hello.ceb47a98-6779-11ef-a8be-cddf5db96301.xml\n",
      "Image:C:\\Users\\sahar\\ISLtranslationapp\\tensorflow\\workspace\\images\\collectedimages\\hello\\hello.cfe9ddf3-6779-11ef-9973-cddf5db96301.jpg -> Annotation:C:/Users/sahar/ISLtranslationapp/tensorflow/workspace/images/collectedimages/hello\\hello.cfe9ddf3-6779-11ef-9973-cddf5db96301.xml\n",
      "Image:C:\\Users\\sahar\\ISLtranslationapp\\tensorflow\\workspace\\images\\collectedimages\\iloveyou\\iloveyou.1aa758ce-677a-11ef-af5b-cddf5db96301.jpg -> Annotation:C:/Users/sahar/ISLtranslationapp/tensorflow/workspace/images/collectedimages/iloveyou\\iloveyou.1aa758ce-677a-11ef-af5b-cddf5db96301.xml\n",
      "Image:C:\\Users\\sahar\\ISLtranslationapp\\tensorflow\\workspace\\images\\collectedimages\\iloveyou\\iloveyou.1bdb4b1e-677a-11ef-a8b4-cddf5db96301.jpg -> Annotation:C:/Users/sahar/ISLtranslationapp/tensorflow/workspace/images/collectedimages/iloveyou\\iloveyou.1bdb4b1e-677a-11ef-a8b4-cddf5db96301.xml\n",
      "Image:C:\\Users\\sahar\\ISLtranslationapp\\tensorflow\\workspace\\images\\collectedimages\\iloveyou\\iloveyou.1d0e7467-677a-11ef-bce8-cddf5db96301.jpg -> Annotation:C:/Users/sahar/ISLtranslationapp/tensorflow/workspace/images/collectedimages/iloveyou\\iloveyou.1d0e7467-677a-11ef-bce8-cddf5db96301.xml\n",
      "Cancel creation.\n",
      "Image:C:\\Users\\sahar\\ISLtranslationapp\\tensorflow\\workspace\\images\\collectedimages\\iloveyou\\iloveyou.1aa758ce-677a-11ef-af5b-cddf5db96301.jpg -> Annotation:C:/Users/sahar/ISLtranslationapp/tensorflow/workspace/images/collectedimages/iloveyou\\iloveyou.1aa758ce-677a-11ef-af5b-cddf5db96301.xml\n",
      "Cancel creation.\n",
      "Image:C:\\Users\\sahar\\ISLtranslationapp\\tensorflow\\workspace\\images\\collectedimages\\iloveyou\\iloveyou.1bdb4b1e-677a-11ef-a8b4-cddf5db96301.jpg -> Annotation:C:/Users/sahar/ISLtranslationapp/tensorflow/workspace/images/collectedimages/iloveyou\\iloveyou.1bdb4b1e-677a-11ef-a8b4-cddf5db96301.xml\n",
      "Cancel creation.\n",
      "Image:C:\\Users\\sahar\\ISLtranslationapp\\tensorflow\\workspace\\images\\collectedimages\\iloveyou\\iloveyou.1d0e7467-677a-11ef-bce8-cddf5db96301.jpg -> Annotation:C:/Users/sahar/ISLtranslationapp/tensorflow/workspace/images/collectedimages/iloveyou\\iloveyou.1d0e7467-677a-11ef-bce8-cddf5db96301.xml\n",
      "Image:C:\\Users\\sahar\\ISLtranslationapp\\tensorflow\\workspace\\images\\collectedimages\\iloveyou\\iloveyou.1e420388-677a-11ef-a49a-cddf5db96301.jpg -> Annotation:C:/Users/sahar/ISLtranslationapp/tensorflow/workspace/images/collectedimages/iloveyou\\iloveyou.1e420388-677a-11ef-a49a-cddf5db96301.xml\n",
      "Image:C:\\Users\\sahar\\ISLtranslationapp\\tensorflow\\workspace\\images\\collectedimages\\iloveyou\\iloveyou.1f75a8f4-677a-11ef-afb4-cddf5db96301.jpg -> Annotation:C:/Users/sahar/ISLtranslationapp/tensorflow/workspace/images/collectedimages/iloveyou\\iloveyou.1f75a8f4-677a-11ef-afb4-cddf5db96301.xml\n",
      "Image:C:\\Users\\sahar\\ISLtranslationapp\\tensorflow\\workspace\\images\\collectedimages\\iloveyou\\iloveyou.2a45cf52-677a-11ef-bc6b-cddf5db96301.jpg -> Annotation:C:/Users/sahar/ISLtranslationapp/tensorflow/workspace/images/collectedimages/iloveyou\\iloveyou.2a45cf52-677a-11ef-bc6b-cddf5db96301.xml\n",
      "Image:C:\\Users\\sahar\\ISLtranslationapp\\tensorflow\\workspace\\images\\collectedimages\\iloveyou\\iloveyou.20a9066b-677a-11ef-847f-cddf5db96301.jpg -> Annotation:C:/Users/sahar/ISLtranslationapp/tensorflow/workspace/images/collectedimages/iloveyou\\iloveyou.20a9066b-677a-11ef-847f-cddf5db96301.xml\n",
      "Image:C:\\Users\\sahar\\ISLtranslationapp\\tensorflow\\workspace\\images\\collectedimages\\iloveyou\\iloveyou.21dcbc33-677a-11ef-ba6f-cddf5db96301.jpg -> Annotation:C:/Users/sahar/ISLtranslationapp/tensorflow/workspace/images/collectedimages/iloveyou\\iloveyou.21dcbc33-677a-11ef-ba6f-cddf5db96301.xml\n",
      "Image:C:\\Users\\sahar\\ISLtranslationapp\\tensorflow\\workspace\\images\\collectedimages\\iloveyou\\iloveyou.26aaae5f-677a-11ef-be9c-cddf5db96301.jpg -> Annotation:C:/Users/sahar/ISLtranslationapp/tensorflow/workspace/images/collectedimages/iloveyou\\iloveyou.26aaae5f-677a-11ef-be9c-cddf5db96301.xml\n",
      "Image:C:\\Users\\sahar\\ISLtranslationapp\\tensorflow\\workspace\\images\\collectedimages\\iloveyou\\iloveyou.27de5bb3-677a-11ef-980f-cddf5db96301.jpg -> Annotation:C:/Users/sahar/ISLtranslationapp/tensorflow/workspace/images/collectedimages/iloveyou\\iloveyou.27de5bb3-677a-11ef-980f-cddf5db96301.xml\n",
      "Image:C:\\Users\\sahar\\ISLtranslationapp\\tensorflow\\workspace\\images\\collectedimages\\iloveyou\\iloveyou.19728a0a-677a-11ef-b091-cddf5db96301.jpg -> Annotation:C:/Users/sahar/ISLtranslationapp/tensorflow/workspace/images/collectedimages/iloveyou\\iloveyou.19728a0a-677a-11ef-b091-cddf5db96301.xml\n",
      "Image:C:\\Users\\sahar\\ISLtranslationapp\\tensorflow\\workspace\\images\\collectedimages\\iloveyou\\iloveyou.24439c4b-677a-11ef-9353-cddf5db96301.jpg -> Annotation:C:/Users/sahar/ISLtranslationapp/tensorflow/workspace/images/collectedimages/iloveyou\\iloveyou.24439c4b-677a-11ef-9353-cddf5db96301.xml\n",
      "Image:C:\\Users\\sahar\\ISLtranslationapp\\tensorflow\\workspace\\images\\collectedimages\\iloveyou\\iloveyou.29126b9e-677a-11ef-94ca-cddf5db96301.jpg -> Annotation:C:/Users/sahar/ISLtranslationapp/tensorflow/workspace/images/collectedimages/iloveyou\\iloveyou.29126b9e-677a-11ef-94ca-cddf5db96301.xml\n",
      "Image:C:\\Users\\sahar\\ISLtranslationapp\\tensorflow\\workspace\\images\\collectedimages\\iloveyou\\iloveyou.231047f8-677a-11ef-82ff-cddf5db96301.jpg -> Annotation:C:/Users/sahar/ISLtranslationapp/tensorflow/workspace/images/collectedimages/iloveyou\\iloveyou.231047f8-677a-11ef-82ff-cddf5db96301.xml\n",
      "Image:C:\\Users\\sahar\\ISLtranslationapp\\tensorflow\\workspace\\images\\collectedimages\\iloveyou\\iloveyou.2577833a-677a-11ef-a2bd-cddf5db96301.jpg -> Annotation:C:/Users/sahar/ISLtranslationapp/tensorflow/workspace/images/collectedimages/iloveyou\\iloveyou.2577833a-677a-11ef-a2bd-cddf5db96301.xml\n",
      "Image:C:\\Users\\sahar\\ISLtranslationapp\\tensorflow\\workspace\\images\\collectedimages\\no\\no.0a16c442-677a-11ef-a74c-cddf5db96301.jpg -> Annotation:C:/Users/sahar/ISLtranslationapp/tensorflow/workspace/images/collectedimages/no\\no.0a16c442-677a-11ef-a74c-cddf5db96301.xml\n",
      "Image:C:\\Users\\sahar\\ISLtranslationapp\\tensorflow\\workspace\\images\\collectedimages\\no\\no.0b4a4b2a-677a-11ef-b0e7-cddf5db96301.jpg -> Annotation:C:/Users/sahar/ISLtranslationapp/tensorflow/workspace/images/collectedimages/no\\no.0b4a4b2a-677a-11ef-b0e7-cddf5db96301.xml\n",
      "Image:C:\\Users\\sahar\\ISLtranslationapp\\tensorflow\\workspace\\images\\collectedimages\\no\\no.0c7dd2b4-677a-11ef-9acf-cddf5db96301.jpg -> Annotation:C:/Users/sahar/ISLtranslationapp/tensorflow/workspace/images/collectedimages/no\\no.0c7dd2b4-677a-11ef-9acf-cddf5db96301.xml\n",
      "Cancel creation.\n",
      "Image:C:\\Users\\sahar\\ISLtranslationapp\\tensorflow\\workspace\\images\\collectedimages\\no\\no.0db18b65-677a-11ef-b67f-cddf5db96301.jpg -> Annotation:C:/Users/sahar/ISLtranslationapp/tensorflow/workspace/images/collectedimages/no\\no.0db18b65-677a-11ef-b67f-cddf5db96301.xml\n",
      "Image:C:\\Users\\sahar\\ISLtranslationapp\\tensorflow\\workspace\\images\\collectedimages\\no\\no.0ee49ea0-677a-11ef-b691-cddf5db96301.jpg -> Annotation:C:/Users/sahar/ISLtranslationapp/tensorflow/workspace/images/collectedimages/no\\no.0ee49ea0-677a-11ef-b691-cddf5db96301.xml\n",
      "Cancel creation.\n",
      "Image:C:\\Users\\sahar\\ISLtranslationapp\\tensorflow\\workspace\\images\\collectedimages\\no\\no.02e25087-677a-11ef-83b5-cddf5db96301.jpg -> Annotation:C:/Users/sahar/ISLtranslationapp/tensorflow/workspace/images/collectedimages/no\\no.02e25087-677a-11ef-83b5-cddf5db96301.xml\n",
      "Image:C:\\Users\\sahar\\ISLtranslationapp\\tensorflow\\workspace\\images\\collectedimages\\no\\no.07afd69d-677a-11ef-8bcf-cddf5db96301.jpg -> Annotation:C:/Users/sahar/ISLtranslationapp/tensorflow/workspace/images/collectedimages/no\\no.07afd69d-677a-11ef-8bcf-cddf5db96301.xml\n",
      "Image:C:\\Users\\sahar\\ISLtranslationapp\\tensorflow\\workspace\\images\\collectedimages\\no\\no.08e2e643-677a-11ef-9986-cddf5db96301.jpg -> Annotation:C:/Users/sahar/ISLtranslationapp/tensorflow/workspace/images/collectedimages/no\\no.08e2e643-677a-11ef-9986-cddf5db96301.xml\n",
      "Image:C:\\Users\\sahar\\ISLtranslationapp\\tensorflow\\workspace\\images\\collectedimages\\no\\no.13b2e3bd-677a-11ef-a4ea-cddf5db96301.jpg -> Annotation:C:/Users/sahar/ISLtranslationapp/tensorflow/workspace/images/collectedimages/no\\no.13b2e3bd-677a-11ef-a4ea-cddf5db96301.xml\n",
      "Image:C:\\Users\\sahar\\ISLtranslationapp\\tensorflow\\workspace\\images\\collectedimages\\no\\no.067c8e64-677a-11ef-98bb-cddf5db96301.jpg -> Annotation:C:/Users/sahar/ISLtranslationapp/tensorflow/workspace/images/collectedimages/no\\no.067c8e64-677a-11ef-98bb-cddf5db96301.xml\n",
      "Image:C:\\Users\\sahar\\ISLtranslationapp\\tensorflow\\workspace\\images\\collectedimages\\no\\no.114bc681-677a-11ef-b7ea-cddf5db96301.jpg -> Annotation:C:/Users/sahar/ISLtranslationapp/tensorflow/workspace/images/collectedimages/no\\no.114bc681-677a-11ef-b7ea-cddf5db96301.xml\n",
      "Image:C:\\Users\\sahar\\ISLtranslationapp\\tensorflow\\workspace\\images\\collectedimages\\no\\no.127f7137-677a-11ef-b368-cddf5db96301.jpg -> Annotation:C:/Users/sahar/ISLtranslationapp/tensorflow/workspace/images/collectedimages/no\\no.127f7137-677a-11ef-b368-cddf5db96301.xml\n",
      "Image:C:\\Users\\sahar\\ISLtranslationapp\\tensorflow\\workspace\\images\\collectedimages\\no\\no.0548bdac-677a-11ef-98b7-cddf5db96301.jpg -> Annotation:C:/Users/sahar/ISLtranslationapp/tensorflow/workspace/images/collectedimages/no\\no.0548bdac-677a-11ef-98b7-cddf5db96301.xml\n",
      "Image:C:\\Users\\sahar\\ISLtranslationapp\\tensorflow\\workspace\\images\\collectedimages\\no\\no.10182df7-677a-11ef-90cd-cddf5db96301.jpg -> Annotation:C:/Users/sahar/ISLtranslationapp/tensorflow/workspace/images/collectedimages/no\\no.10182df7-677a-11ef-90cd-cddf5db96301.xml\n",
      "Image:C:\\Users\\sahar\\ISLtranslationapp\\tensorflow\\workspace\\images\\collectedimages\\no\\no.04154679-677a-11ef-b655-cddf5db96301.jpg -> Annotation:C:/Users/sahar/ISLtranslationapp/tensorflow/workspace/images/collectedimages/no\\no.04154679-677a-11ef-b655-cddf5db96301.xml\n",
      "Image:C:\\Users\\sahar\\ISLtranslationapp\\tensorflow\\workspace\\images\\collectedimages\\thanks\\thanks.d5ab99cc-6779-11ef-b9e8-cddf5db96301.jpg -> Annotation:C:/Users/sahar/ISLtranslationapp/tensorflow/workspace/images/collectedimages/thanks\\thanks.d5ab99cc-6779-11ef-b9e8-cddf5db96301.xml\n",
      "Image:C:\\Users\\sahar\\ISLtranslationapp\\tensorflow\\workspace\\images\\collectedimages\\thanks\\thanks.d6df9894-6779-11ef-88b5-cddf5db96301.jpg -> Annotation:C:/Users/sahar/ISLtranslationapp/tensorflow/workspace/images/collectedimages/thanks\\thanks.d6df9894-6779-11ef-88b5-cddf5db96301.xml\n",
      "Image:C:\\Users\\sahar\\ISLtranslationapp\\tensorflow\\workspace\\images\\collectedimages\\thanks\\thanks.d946c6bb-6779-11ef-b716-cddf5db96301.jpg -> Annotation:C:/Users/sahar/ISLtranslationapp/tensorflow/workspace/images/collectedimages/thanks\\thanks.d946c6bb-6779-11ef-b716-cddf5db96301.xml\n",
      "Image:C:\\Users\\sahar\\ISLtranslationapp\\tensorflow\\workspace\\images\\collectedimages\\thanks\\thanks.d813015f-6779-11ef-abec-cddf5db96301.jpg -> Annotation:C:/Users/sahar/ISLtranslationapp/tensorflow/workspace/images/collectedimages/thanks\\thanks.d813015f-6779-11ef-abec-cddf5db96301.xml\n",
      "Image:C:\\Users\\sahar\\ISLtranslationapp\\tensorflow\\workspace\\images\\collectedimages\\thanks\\thanks.da79e475-6779-11ef-ae1b-cddf5db96301.jpg -> Annotation:C:/Users/sahar/ISLtranslationapp/tensorflow/workspace/images/collectedimages/thanks\\thanks.da79e475-6779-11ef-ae1b-cddf5db96301.xml\n",
      "Image:C:\\Users\\sahar\\ISLtranslationapp\\tensorflow\\workspace\\images\\collectedimages\\thanks\\thanks.dbad6c2a-6779-11ef-8a53-cddf5db96301.jpg -> Annotation:C:/Users/sahar/ISLtranslationapp/tensorflow/workspace/images/collectedimages/thanks\\thanks.dbad6c2a-6779-11ef-8a53-cddf5db96301.xml\n",
      "Image:C:\\Users\\sahar\\ISLtranslationapp\\tensorflow\\workspace\\images\\collectedimages\\thanks\\thanks.dce14cb2-6779-11ef-89ce-cddf5db96301.jpg -> Annotation:C:/Users/sahar/ISLtranslationapp/tensorflow/workspace/images/collectedimages/thanks\\thanks.dce14cb2-6779-11ef-89ce-cddf5db96301.xml\n",
      "Image:C:\\Users\\sahar\\ISLtranslationapp\\tensorflow\\workspace\\images\\collectedimages\\thanks\\thanks.de14f789-6779-11ef-a3cf-cddf5db96301.jpg -> Annotation:C:/Users/sahar/ISLtranslationapp/tensorflow/workspace/images/collectedimages/thanks\\thanks.de14f789-6779-11ef-a3cf-cddf5db96301.xml\n",
      "Image:C:\\Users\\sahar\\ISLtranslationapp\\tensorflow\\workspace\\images\\collectedimages\\thanks\\thanks.df47cc42-6779-11ef-807c-cddf5db96301.jpg -> Annotation:C:/Users/sahar/ISLtranslationapp/tensorflow/workspace/images/collectedimages/thanks\\thanks.df47cc42-6779-11ef-807c-cddf5db96301.xml\n",
      "Image:C:\\Users\\sahar\\ISLtranslationapp\\tensorflow\\workspace\\images\\collectedimages\\thanks\\thanks.e1affc93-6779-11ef-a2bd-cddf5db96301.jpg -> Annotation:C:/Users/sahar/ISLtranslationapp/tensorflow/workspace/images/collectedimages/thanks\\thanks.e1affc93-6779-11ef-a2bd-cddf5db96301.xml\n",
      "Image:C:\\Users\\sahar\\ISLtranslationapp\\tensorflow\\workspace\\images\\collectedimages\\thanks\\thanks.e2e4cb8c-6779-11ef-8ed5-cddf5db96301.jpg -> Annotation:C:/Users/sahar/ISLtranslationapp/tensorflow/workspace/images/collectedimages/thanks\\thanks.e2e4cb8c-6779-11ef-8ed5-cddf5db96301.xml\n",
      "Image:C:\\Users\\sahar\\ISLtranslationapp\\tensorflow\\workspace\\images\\collectedimages\\thanks\\thanks.e07b8342-6779-11ef-95a0-cddf5db96301.jpg -> Annotation:C:/Users/sahar/ISLtranslationapp/tensorflow/workspace/images/collectedimages/thanks\\thanks.e07b8342-6779-11ef-95a0-cddf5db96301.xml\n",
      "Image:C:\\Users\\sahar\\ISLtranslationapp\\tensorflow\\workspace\\images\\collectedimages\\thanks\\thanks.e54e67d6-6779-11ef-8051-cddf5db96301.jpg -> Annotation:C:/Users/sahar/ISLtranslationapp/tensorflow/workspace/images/collectedimages/thanks\\thanks.e54e67d6-6779-11ef-8051-cddf5db96301.xml\n",
      "Image:C:\\Users\\sahar\\ISLtranslationapp\\tensorflow\\workspace\\images\\collectedimages\\thanks\\thanks.e684ab08-6779-11ef-91ce-cddf5db96301.jpg -> Annotation:C:/Users/sahar/ISLtranslationapp/tensorflow/workspace/images/collectedimages/thanks\\thanks.e684ab08-6779-11ef-91ce-cddf5db96301.xml\n",
      "Image:C:\\Users\\sahar\\ISLtranslationapp\\tensorflow\\workspace\\images\\collectedimages\\thanks\\thanks.e4197a46-6779-11ef-a710-cddf5db96301.jpg -> Annotation:C:/Users/sahar/ISLtranslationapp/tensorflow/workspace/images/collectedimages/thanks\\thanks.e4197a46-6779-11ef-a710-cddf5db96301.xml\n",
      "Image:C:\\Users\\sahar\\ISLtranslationapp\\tensorflow\\workspace\\images\\collectedimages\\yes\\yes.ec48f652-6779-11ef-b1a3-cddf5db96301.jpg -> Annotation:C:/Users/sahar/ISLtranslationapp/tensorflow/workspace/images/collectedimages/yes\\yes.ec48f652-6779-11ef-b1a3-cddf5db96301.xml\n",
      "Image:C:\\Users\\sahar\\ISLtranslationapp\\tensorflow\\workspace\\images\\collectedimages\\yes\\yes.ed7df238-6779-11ef-af9a-cddf5db96301.jpg -> Annotation:C:/Users/sahar/ISLtranslationapp/tensorflow/workspace/images/collectedimages/yes\\yes.ed7df238-6779-11ef-af9a-cddf5db96301.xml\n",
      "Image:C:\\Users\\sahar\\ISLtranslationapp\\tensorflow\\workspace\\images\\collectedimages\\yes\\yes.eeb159dd-6779-11ef-8d37-cddf5db96301.jpg -> Annotation:C:/Users/sahar/ISLtranslationapp/tensorflow/workspace/images/collectedimages/yes\\yes.eeb159dd-6779-11ef-8d37-cddf5db96301.xml\n",
      "Image:C:\\Users\\sahar\\ISLtranslationapp\\tensorflow\\workspace\\images\\collectedimages\\yes\\yes.efe4fcb1-6779-11ef-ad9b-cddf5db96301.jpg -> Annotation:C:/Users/sahar/ISLtranslationapp/tensorflow/workspace/images/collectedimages/yes\\yes.efe4fcb1-6779-11ef-ad9b-cddf5db96301.xml\n",
      "Image:C:\\Users\\sahar\\ISLtranslationapp\\tensorflow\\workspace\\images\\collectedimages\\yes\\yes.f4b56d42-6779-11ef-8c55-cddf5db96301.jpg -> Annotation:C:/Users/sahar/ISLtranslationapp/tensorflow/workspace/images/collectedimages/yes\\yes.f4b56d42-6779-11ef-8c55-cddf5db96301.xml\n",
      "Image:C:\\Users\\sahar\\ISLtranslationapp\\tensorflow\\workspace\\images\\collectedimages\\yes\\yes.f5e91484-6779-11ef-9d1c-cddf5db96301.jpg -> Annotation:C:/Users/sahar/ISLtranslationapp/tensorflow/workspace/images/collectedimages/yes\\yes.f5e91484-6779-11ef-9d1c-cddf5db96301.xml\n",
      "Image:C:\\Users\\sahar\\ISLtranslationapp\\tensorflow\\workspace\\images\\collectedimages\\yes\\yes.f24c2895-6779-11ef-b3f6-cddf5db96301.jpg -> Annotation:C:/Users/sahar/ISLtranslationapp/tensorflow/workspace/images/collectedimages/yes\\yes.f24c2895-6779-11ef-b3f6-cddf5db96301.xml\n",
      "Image:C:\\Users\\sahar\\ISLtranslationapp\\tensorflow\\workspace\\images\\collectedimages\\yes\\yes.f71c4acd-6779-11ef-b14b-cddf5db96301.jpg -> Annotation:C:/Users/sahar/ISLtranslationapp/tensorflow/workspace/images/collectedimages/yes\\yes.f71c4acd-6779-11ef-b14b-cddf5db96301.xml\n",
      "Image:C:\\Users\\sahar\\ISLtranslationapp\\tensorflow\\workspace\\images\\collectedimages\\yes\\yes.f985b287-6779-11ef-a70f-cddf5db96301.jpg -> Annotation:C:/Users/sahar/ISLtranslationapp/tensorflow/workspace/images/collectedimages/yes\\yes.f985b287-6779-11ef-a70f-cddf5db96301.xml\n",
      "Image:C:\\Users\\sahar\\ISLtranslationapp\\tensorflow\\workspace\\images\\collectedimages\\yes\\yes.f1181b19-6779-11ef-a576-cddf5db96301.jpg -> Annotation:C:/Users/sahar/ISLtranslationapp/tensorflow/workspace/images/collectedimages/yes\\yes.f1181b19-6779-11ef-a576-cddf5db96301.xml\n",
      "Image:C:\\Users\\sahar\\ISLtranslationapp\\tensorflow\\workspace\\images\\collectedimages\\yes\\yes.f3803d61-6779-11ef-a07a-cddf5db96301.jpg -> Annotation:C:/Users/sahar/ISLtranslationapp/tensorflow/workspace/images/collectedimages/yes\\yes.f3803d61-6779-11ef-a07a-cddf5db96301.xml\n",
      "Image:C:\\Users\\sahar\\ISLtranslationapp\\tensorflow\\workspace\\images\\collectedimages\\yes\\yes.f85049d8-6779-11ef-bcb6-cddf5db96301.jpg -> Annotation:C:/Users/sahar/ISLtranslationapp/tensorflow/workspace/images/collectedimages/yes\\yes.f85049d8-6779-11ef-bcb6-cddf5db96301.xml\n",
      "Image:C:\\Users\\sahar\\ISLtranslationapp\\tensorflow\\workspace\\images\\collectedimages\\yes\\yes.fab9d4a1-6779-11ef-bad9-cddf5db96301.jpg -> Annotation:C:/Users/sahar/ISLtranslationapp/tensorflow/workspace/images/collectedimages/yes\\yes.fab9d4a1-6779-11ef-bad9-cddf5db96301.xml\n",
      "Image:C:\\Users\\sahar\\ISLtranslationapp\\tensorflow\\workspace\\images\\collectedimages\\yes\\yes.fbed2151-6779-11ef-b56f-cddf5db96301.jpg -> Annotation:C:/Users/sahar/ISLtranslationapp/tensorflow/workspace/images/collectedimages/yes\\yes.fbed2151-6779-11ef-b56f-cddf5db96301.xml\n",
      "Image:C:\\Users\\sahar\\ISLtranslationapp\\tensorflow\\workspace\\images\\collectedimages\\yes\\yes.fd21e717-6779-11ef-9aa3-cddf5db96301.jpg -> Annotation:C:/Users/sahar/ISLtranslationapp/tensorflow/workspace/images/collectedimages/yes\\yes.fd21e717-6779-11ef-9aa3-cddf5db96301.xml\n"
     ]
    }
   ],
   "source": [
    "# Opens labelimg package in our system\n",
    "!cd {LABELIMG_PATH} && python labelImg.py"
   ]
  }
 ],
 "metadata": {
  "kernelspec": {
   "display_name": "Python 3 (ipykernel)",
   "language": "python",
   "name": "python3"
  },
  "language_info": {
   "codemirror_mode": {
    "name": "ipython",
    "version": 3
   },
   "file_extension": ".py",
   "mimetype": "text/x-python",
   "name": "python",
   "nbconvert_exporter": "python",
   "pygments_lexer": "ipython3",
   "version": "3.12.4"
  }
 },
 "nbformat": 4,
 "nbformat_minor": 5
}
